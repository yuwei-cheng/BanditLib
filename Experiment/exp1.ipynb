#%% md

# Explore Robustness of DBGD

#%%

from lib.AES import AES
from lib.DBGD import DBGD
import numpy as np
import matplotlib.pyplot as plt
from Users.LearningUsers import LinUser
SEED = 666
np.random.seed(SEED)

#%% md

## Set Algorithm Parameters

#%%

d = 5  # Feature Dimension
T = 10000  # Time Horizon
T0 = 2000  # Exploration steps
delta = 0.2
gamma = 0.1 # User learning rate
cut_thres = 0.99
learning = True
# user configuration

learning_user = LinUser(feature_dim=d, gamma = gamma, V0=1.0 * np.identity(n=d))

# algorithm initialization
aes = AES(feature_dim=d)
aes_regret = []
learning_user.reset()
aes.reset()
aes.simulate(user=learning_user, T=T, T0=T0, delta=delta, cut_thres=cut_thres, verbose=False, learning = learning)

dbgd = DBGD(feature_dim=d)
dbgd_regret = []
learning_user.reset()
dbgd.simulate(user=learning_user, T=T, learning = learning)



# visualize result
aes_regret.append(np.cumsum(aes.regret))
dbgd_regret.append(np.cumsum(dbgd.regret))

# plt.plot(aes_regret[-1], 'r-.', label='AES')
plt.plot(dbgd_regret[-1], 'b-.', label='DBGD')
plt.title('Regret curves of for learning users gamma = 0.1')
plt.xlabel("t")
plt.ylabel("Regret(t)")
plt.legend(fontsize=12)
plt.show()

#%% md
# DBGD algroithm with different user learning rate

#%%
for g in range(0, 5, 1):
    learning_user = LinUser(feature_dim=d, gamma = g*0.1, V0=1.0 * np.identity(n=d))
    dbgd = DBGD(feature_dim=d)
    dbgd_regret = []
    learning_user.reset()
    dbgd.simulate(user=learning_user, T=T, learning = learning)
    dbgd_regret.append(np.cumsum(dbgd.regret))
    plt.plot(dbgd_regret[-1], label= g)

plt.xlabel("t")
plt.ylabel("Regret(t)")
plt.legend(fontsize=12)
plt.show()

#%%
for g in range(0, 5, 1):
    learning_user = LinUser(feature_dim=d, gamma = g*0.1, V0=1.0 * np.identity(n=d))
    aes = AES(feature_dim=d)
    aes_regret = []
    learning_user.reset()
    aes.reset()
    aes.simulate(user=learning_user, T=T, T0=T0, delta=delta, cut_thres=cut_thres, verbose=False, learning = learning)
    aes_regret.append(np.cumsum(aes.regret))
    plt.plot(aes_regret[-1], label= g)

plt.xlabel("t")
plt.ylabel("Regret(t)")
plt.legend(fontsize=12)
plt.show()
